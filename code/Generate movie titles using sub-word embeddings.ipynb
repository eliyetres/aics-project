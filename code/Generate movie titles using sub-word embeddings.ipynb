{
 "cells": [
  {
   "cell_type": "markdown",
   "metadata": {},
   "source": [
    "# Generate the data\n",
    "Downloads the poster images and saved a new csv file with the data"
   ]
  },
  {
   "cell_type": "code",
   "execution_count": null,
   "metadata": {},
   "outputs": [],
   "source": [
    "data_path = \"../data/\"\n",
    "poster_data_path = data_path + \"movie-genre-from-its-poster/MovieGenre.csv\"\n",
    "new_poster_data_file = \"New_poster_data.csv\"\n",
    "base_images_path = \"../data/images/100/\""
   ]
  },
  {
   "cell_type": "code",
   "execution_count": null,
   "metadata": {},
   "outputs": [],
   "source": [
    "import pandas as pd \n",
    "# Read data from file 'MovieGenre.csv' \n",
    "poster_data = pd.read_csv(poster_data_path, encoding = \"ISO-8859-1\", usecols=['imdbId', 'Genre', 'Title', 'Poster']) \n",
    "\n",
    "# Preview the first 5 lines of the loaded data \n",
    "poster_data.head()"
   ]
  },
  {
   "cell_type": "code",
   "execution_count": null,
   "metadata": {},
   "outputs": [],
   "source": [
    "len(poster_data)"
   ]
  },
  {
   "cell_type": "markdown",
   "metadata": {},
   "source": [
    "Remove lines with empty cells"
   ]
  },
  {
   "cell_type": "code",
   "execution_count": null,
   "metadata": {},
   "outputs": [],
   "source": [
    "import numpy as np\n",
    "cols=['imdbId', 'Genre', 'Title', 'Poster']\n",
    "for i in cols:\n",
    "    poster_data[i].replace('', np.nan, inplace=True)\n",
    "for i in cols:\n",
    "    poster_data.dropna(subset=[i], inplace=True)\n",
    "    \n",
    "len(poster_data)"
   ]
  },
  {
   "cell_type": "markdown",
   "metadata": {},
   "source": [
    "### Download movie posters\n",
    "Check if the poster has a valid url. If the poster is found, download it and save the movie titles and genres to a new file. If the image is already downloaded and found in the folder, the download is skipped."
   ]
  },
  {
   "cell_type": "code",
   "execution_count": null,
   "metadata": {},
   "outputs": [],
   "source": [
    "import urllib.request\n",
    "from urllib.error import HTTPError\n",
    "import os.path\n",
    "\n",
    "def download_posters(poster_url, path, title):\n",
    "    if os.path.isfile(path+\".jpg\"):\n",
    "        print (\"Poster\", title ,\"exist\")\n",
    "    else:\n",
    "        try:\n",
    "            urllib.request.urlretrieve(poster_url, path+\".jpg\")\n",
    "        except HTTPError:\n",
    "            print(\"Movie\",title ,\"poster not found!\")\n",
    "            return False\n",
    "    return True"
   ]
  },
  {
   "cell_type": "code",
   "execution_count": null,
   "metadata": {},
   "outputs": [],
   "source": [
    "import re\n",
    "\n",
    "new_poster_data = pd.DataFrame(columns=['imgid', 'title', 'genres'])\n",
    "\n",
    "for _, row in poster_data.iterrows(): \n",
    "    genre = str(row['Genre'])\n",
    "    genres = str(row['Genre']).split(\"|\")\n",
    "    genres = (\", \").join(genres)\n",
    "    title = str(row['Title'])\n",
    "    img_id = str(row['imdbId'])    \n",
    "    # remove years from titles\n",
    "    title = re.sub(\" \\(\\d{4,}\\)\", \"\",  title)\n",
    "    poster_url = str(row['Poster'])\n",
    "    \n",
    "    # download the poster\n",
    "    poster = download_posters(poster_url, base_images_path+img_id, title)\n",
    "    \n",
    "    not_found = 0\n",
    "    # if poster is not found, skip movie\n",
    "    if poster == True:\n",
    "        new_row = {'imgid':img_id ,'title':title, 'genres':genres}    \n",
    "        new_poster_data = new_poster_data.append(new_row, ignore_index=True) \n",
    "    else:\n",
    "        not_found += 1\n",
    "\n",
    "print(\"{} posters not found\".format(not_found))"
   ]
  },
  {
   "cell_type": "code",
   "execution_count": null,
   "metadata": {},
   "outputs": [],
   "source": [
    "new_poster_data.head()"
   ]
  },
  {
   "cell_type": "code",
   "execution_count": null,
   "metadata": {},
   "outputs": [],
   "source": [
    "new_poster_data.to_csv(data_path+new_poster_data_file,index=False)"
   ]
  },
  {
   "cell_type": "markdown",
   "metadata": {},
   "source": [
    "## Start vectorization (run from here after downloading img)"
   ]
  },
  {
   "cell_type": "code",
   "execution_count": 29,
   "metadata": {},
   "outputs": [],
   "source": [
    "data_path = \"../data/\"\n",
    "poster_data_path = data_path + \"movie-genre-from-its-poster/MovieGenre.csv\"\n",
    "new_poster_data_file = \"New_poster_data.csv\"\n",
    "base_images_path = \"../data/images/100/\""
   ]
  },
  {
   "cell_type": "code",
   "execution_count": 30,
   "metadata": {},
   "outputs": [
    {
     "data": {
      "text/html": [
       "<div>\n",
       "<style scoped>\n",
       "    .dataframe tbody tr th:only-of-type {\n",
       "        vertical-align: middle;\n",
       "    }\n",
       "\n",
       "    .dataframe tbody tr th {\n",
       "        vertical-align: top;\n",
       "    }\n",
       "\n",
       "    .dataframe thead th {\n",
       "        text-align: right;\n",
       "    }\n",
       "</style>\n",
       "<table border=\"1\" class=\"dataframe\">\n",
       "  <thead>\n",
       "    <tr style=\"text-align: right;\">\n",
       "      <th></th>\n",
       "      <th>imgid</th>\n",
       "      <th>title</th>\n",
       "      <th>genres</th>\n",
       "    </tr>\n",
       "  </thead>\n",
       "  <tbody>\n",
       "    <tr>\n",
       "      <th>0</th>\n",
       "      <td>114709</td>\n",
       "      <td>Toy Story</td>\n",
       "      <td>Animation, Adventure, Comedy</td>\n",
       "    </tr>\n",
       "    <tr>\n",
       "      <th>1</th>\n",
       "      <td>113497</td>\n",
       "      <td>Jumanji</td>\n",
       "      <td>Action, Adventure, Family</td>\n",
       "    </tr>\n",
       "    <tr>\n",
       "      <th>2</th>\n",
       "      <td>113228</td>\n",
       "      <td>Grumpier Old Men</td>\n",
       "      <td>Comedy, Romance</td>\n",
       "    </tr>\n",
       "    <tr>\n",
       "      <th>3</th>\n",
       "      <td>114885</td>\n",
       "      <td>Waiting to Exhale</td>\n",
       "      <td>Comedy, Drama, Romance</td>\n",
       "    </tr>\n",
       "    <tr>\n",
       "      <th>4</th>\n",
       "      <td>113041</td>\n",
       "      <td>Father of the Bride Part II</td>\n",
       "      <td>Comedy, Family, Romance</td>\n",
       "    </tr>\n",
       "  </tbody>\n",
       "</table>\n",
       "</div>"
      ],
      "text/plain": [
       "    imgid                        title                        genres\n",
       "0  114709                    Toy Story  Animation, Adventure, Comedy\n",
       "1  113497                      Jumanji     Action, Adventure, Family\n",
       "2  113228             Grumpier Old Men               Comedy, Romance\n",
       "3  114885            Waiting to Exhale        Comedy, Drama, Romance\n",
       "4  113041  Father of the Bride Part II       Comedy, Family, Romance"
      ]
     },
     "execution_count": 30,
     "metadata": {},
     "output_type": "execute_result"
    }
   ],
   "source": [
    "import pandas as pd \n",
    "# Read data from file 'MovieGenre.csv' \n",
    "new_poster_data = pd.read_csv(data_path+new_poster_data_file, encoding = \"ISO-8859-1\", usecols=['imgid', 'title', 'genres']) \n",
    "\n",
    "# Preview the first 5 lines of the loaded data \n",
    "new_poster_data.head()"
   ]
  },
  {
   "cell_type": "code",
   "execution_count": 31,
   "metadata": {},
   "outputs": [
    {
     "data": {
      "text/plain": [
       "37742"
      ]
     },
     "execution_count": 31,
     "metadata": {},
     "output_type": "execute_result"
    }
   ],
   "source": [
    "len(new_poster_data)"
   ]
  },
  {
   "cell_type": "code",
   "execution_count": 32,
   "metadata": {},
   "outputs": [
    {
     "data": {
      "image/jpeg": "[encoded data removed]",
      "text/plain": [
       "<IPython.core.display.Image object>"
      ]
     },
     "execution_count": 32,
     "metadata": {},
     "output_type": "execute_result"
    }
   ],
   "source": [
    "from IPython.display import Image\n",
    "image = Image(base_images_path+'/114709.jpg')\n",
    "image"
   ]
  },
  {
   "cell_type": "markdown",
   "metadata": {},
   "source": [
    "## Movie title tokenization"
   ]
  },
  {
   "cell_type": "markdown",
   "metadata": {},
   "source": [
    "You would need a one-layer LSTM with a pre-trained sub-word embedding, + feature fusion layer (concatenate each subword embedding with poster visual vector or its genre vector).\n",
    "Then, train the LSTM on movie titles, when you have visual vectors.\n"
   ]
  },
  {
   "cell_type": "code",
   "execution_count": 33,
   "metadata": {},
   "outputs": [],
   "source": [
    "# loading vectors from disk\n",
    "#from gensim.models import KeyedVectors\n",
    "#from gensim.test.utils import datapath\n",
    "\n",
    "#vectors_path = \"../data/bpemb/data/en/\"\n",
    "#model_path = vectors_path+\"en.wiki.bpe.vs50000.d300.w2v.bin\"\n",
    "\n",
    "#wv_from_bin = KeyedVectors.load_word2vec_format((model_path), binary=True)  # C bin format"
   ]
  },
  {
   "cell_type": "code",
   "execution_count": 34,
   "metadata": {},
   "outputs": [],
   "source": [
    "from bpemb import BPEmb"
   ]
  },
  {
   "cell_type": "markdown",
   "metadata": {},
   "source": [
    "If/how a word gets split depends on the vocabulary size. Generally, a smaller vocabulary size will yield a segmentation into many subwords, while a large vocabulary size will result in frequent words not being split. The advantage of having few operations is that this results in a smaller vocabulary of symbols. You need less data to learn representations (embeddings) of these symbols. The disadvantage is that you need data to learn how to compose those symbols into meaningful units (e.g. words).\n",
    "I chose the smallest vocabulary since the larger ones would not split any titles at all."
   ]
  },
  {
   "cell_type": "code",
   "execution_count": 35,
   "metadata": {},
   "outputs": [],
   "source": [
    "#bpemb_en = BPEmb(lang=\"en\", dim=300, vs=100000)\n",
    "bpemb_en = BPEmb(lang=\"en\", dim=100, vs=1000)"
   ]
  },
  {
   "cell_type": "code",
   "execution_count": 36,
   "metadata": {},
   "outputs": [
    {
     "data": {
      "text/plain": [
       "['▁to', 'y', '▁st', 'ory']"
      ]
     },
     "execution_count": 36,
     "metadata": {},
     "output_type": "execute_result"
    }
   ],
   "source": [
    "bpemb_en.encode(\"Toy Story\")"
   ]
  },
  {
   "cell_type": "code",
   "execution_count": 37,
   "metadata": {},
   "outputs": [
    {
     "name": "stdout",
     "output_type": "stream",
     "text": [
      "Toy Story ['▁to', 'y', '▁st', 'ory']\n",
      "Jumanji ['▁j', 'um', 'an', 'j', 'i']\n",
      "Grumpier Old Men ['▁gr', 'um', 'p', 'ier', '▁old', '▁m', 'en']\n",
      "Waiting to Exhale ['▁w', 'a', 'it', 'ing', '▁to', '▁ex', 'h', 'ale']\n",
      "Father of the Bride Part II ['▁f', 'ather', '▁of', '▁the', '▁br', 'ide', '▁part', '▁i', 'i']\n",
      "Heat ['▁he', 'at']\n",
      "Sabrina ['▁s', 'ab', 'r', 'ina']\n",
      "Sudden Death ['▁s', 'ud', 'd', 'en', '▁de', 'ath']\n",
      "GoldenEye ['▁g', 'old', 'en', 'e', 'y', 'e']\n",
      "The American President ['▁the', '▁american', '▁pres', 'ident']\n"
     ]
    }
   ],
   "source": [
    "# look at some examples\n",
    "for _,row in new_poster_data[:10].iterrows():\n",
    "\n",
    "    title = str(row['title'])\n",
    "    print(title, bpemb_en.encode(title))"
   ]
  },
  {
   "cell_type": "code",
   "execution_count": 38,
   "metadata": {
    "scrolled": true
   },
   "outputs": [
    {
     "data": {
      "text/plain": [
       "[('▁hist', 0.6690595149993896),\n",
       " ('ict', 0.6023141741752625),\n",
       " ('ical', 0.45034170150756836),\n",
       " ('raph', 0.42858463525772095),\n",
       " ('rit', 0.4229355454444885),\n",
       " ('ics', 0.40942496061325073),\n",
       " ('▁book', 0.39245858788490295),\n",
       " ('the', 0.3671647906303406),\n",
       " ('or', 0.35785210132598877),\n",
       " ('▁art', 0.3448060154914856)]"
      ]
     },
     "execution_count": 38,
     "metadata": {},
     "output_type": "execute_result"
    }
   ],
   "source": [
    "bpemb_en.most_similar(\"ory\")"
   ]
  },
  {
   "cell_type": "code",
   "execution_count": 39,
   "metadata": {},
   "outputs": [],
   "source": [
    "def generate_embeddings(movie_title):\n",
    "    #ids = bpemb_en.encode_ids(movie_title)\n",
    "    #emb = bpemb_en.vectors[ids].shape\n",
    "    emb = bpemb_en.embed(movie_title)\n",
    "    return emb"
   ]
  },
  {
   "cell_type": "code",
   "execution_count": 40,
   "metadata": {},
   "outputs": [
    {
     "data": {
      "text/plain": [
       "(7, 100)"
      ]
     },
     "execution_count": 40,
     "metadata": {},
     "output_type": "execute_result"
    }
   ],
   "source": [
    "emb = generate_embeddings(\"Grumpier Old Men\")\n",
    "emb.shape"
   ]
  },
  {
   "cell_type": "markdown",
   "metadata": {},
   "source": [
    "## Get image feature vectors"
   ]
  },
  {
   "cell_type": "code",
   "execution_count": 41,
   "metadata": {},
   "outputs": [
    {
     "name": "stderr",
     "output_type": "stream",
     "text": [
      "Using cache found in /home/gusihaliel@GU.GU.SE/.cache/torch/hub/pytorch_vision_v0.4.2\n"
     ]
    },
    {
     "data": {
      "text/plain": [
       "ResNet(\n",
       "  (conv1): Conv2d(3, 64, kernel_size=(7, 7), stride=(2, 2), padding=(3, 3), bias=False)\n",
       "  (bn1): BatchNorm2d(64, eps=1e-05, momentum=0.1, affine=True, track_running_stats=True)\n",
       "  (relu): ReLU(inplace=True)\n",
       "  (maxpool): MaxPool2d(kernel_size=3, stride=2, padding=1, dilation=1, ceil_mode=False)\n",
       "  (layer1): Sequential(\n",
       "    (0): BasicBlock(\n",
       "      (conv1): Conv2d(64, 64, kernel_size=(3, 3), stride=(1, 1), padding=(1, 1), bias=False)\n",
       "      (bn1): BatchNorm2d(64, eps=1e-05, momentum=0.1, affine=True, track_running_stats=True)\n",
       "      (relu): ReLU(inplace=True)\n",
       "      (conv2): Conv2d(64, 64, kernel_size=(3, 3), stride=(1, 1), padding=(1, 1), bias=False)\n",
       "      (bn2): BatchNorm2d(64, eps=1e-05, momentum=0.1, affine=True, track_running_stats=True)\n",
       "    )\n",
       "    (1): BasicBlock(\n",
       "      (conv1): Conv2d(64, 64, kernel_size=(3, 3), stride=(1, 1), padding=(1, 1), bias=False)\n",
       "      (bn1): BatchNorm2d(64, eps=1e-05, momentum=0.1, affine=True, track_running_stats=True)\n",
       "      (relu): ReLU(inplace=True)\n",
       "      (conv2): Conv2d(64, 64, kernel_size=(3, 3), stride=(1, 1), padding=(1, 1), bias=False)\n",
       "      (bn2): BatchNorm2d(64, eps=1e-05, momentum=0.1, affine=True, track_running_stats=True)\n",
       "    )\n",
       "  )\n",
       "  (layer2): Sequential(\n",
       "    (0): BasicBlock(\n",
       "      (conv1): Conv2d(64, 128, kernel_size=(3, 3), stride=(2, 2), padding=(1, 1), bias=False)\n",
       "      (bn1): BatchNorm2d(128, eps=1e-05, momentum=0.1, affine=True, track_running_stats=True)\n",
       "      (relu): ReLU(inplace=True)\n",
       "      (conv2): Conv2d(128, 128, kernel_size=(3, 3), stride=(1, 1), padding=(1, 1), bias=False)\n",
       "      (bn2): BatchNorm2d(128, eps=1e-05, momentum=0.1, affine=True, track_running_stats=True)\n",
       "      (downsample): Sequential(\n",
       "        (0): Conv2d(64, 128, kernel_size=(1, 1), stride=(2, 2), bias=False)\n",
       "        (1): BatchNorm2d(128, eps=1e-05, momentum=0.1, affine=True, track_running_stats=True)\n",
       "      )\n",
       "    )\n",
       "    (1): BasicBlock(\n",
       "      (conv1): Conv2d(128, 128, kernel_size=(3, 3), stride=(1, 1), padding=(1, 1), bias=False)\n",
       "      (bn1): BatchNorm2d(128, eps=1e-05, momentum=0.1, affine=True, track_running_stats=True)\n",
       "      (relu): ReLU(inplace=True)\n",
       "      (conv2): Conv2d(128, 128, kernel_size=(3, 3), stride=(1, 1), padding=(1, 1), bias=False)\n",
       "      (bn2): BatchNorm2d(128, eps=1e-05, momentum=0.1, affine=True, track_running_stats=True)\n",
       "    )\n",
       "  )\n",
       "  (layer3): Sequential(\n",
       "    (0): BasicBlock(\n",
       "      (conv1): Conv2d(128, 256, kernel_size=(3, 3), stride=(2, 2), padding=(1, 1), bias=False)\n",
       "      (bn1): BatchNorm2d(256, eps=1e-05, momentum=0.1, affine=True, track_running_stats=True)\n",
       "      (relu): ReLU(inplace=True)\n",
       "      (conv2): Conv2d(256, 256, kernel_size=(3, 3), stride=(1, 1), padding=(1, 1), bias=False)\n",
       "      (bn2): BatchNorm2d(256, eps=1e-05, momentum=0.1, affine=True, track_running_stats=True)\n",
       "      (downsample): Sequential(\n",
       "        (0): Conv2d(128, 256, kernel_size=(1, 1), stride=(2, 2), bias=False)\n",
       "        (1): BatchNorm2d(256, eps=1e-05, momentum=0.1, affine=True, track_running_stats=True)\n",
       "      )\n",
       "    )\n",
       "    (1): BasicBlock(\n",
       "      (conv1): Conv2d(256, 256, kernel_size=(3, 3), stride=(1, 1), padding=(1, 1), bias=False)\n",
       "      (bn1): BatchNorm2d(256, eps=1e-05, momentum=0.1, affine=True, track_running_stats=True)\n",
       "      (relu): ReLU(inplace=True)\n",
       "      (conv2): Conv2d(256, 256, kernel_size=(3, 3), stride=(1, 1), padding=(1, 1), bias=False)\n",
       "      (bn2): BatchNorm2d(256, eps=1e-05, momentum=0.1, affine=True, track_running_stats=True)\n",
       "    )\n",
       "  )\n",
       "  (layer4): Sequential(\n",
       "    (0): BasicBlock(\n",
       "      (conv1): Conv2d(256, 512, kernel_size=(3, 3), stride=(2, 2), padding=(1, 1), bias=False)\n",
       "      (bn1): BatchNorm2d(512, eps=1e-05, momentum=0.1, affine=True, track_running_stats=True)\n",
       "      (relu): ReLU(inplace=True)\n",
       "      (conv2): Conv2d(512, 512, kernel_size=(3, 3), stride=(1, 1), padding=(1, 1), bias=False)\n",
       "      (bn2): BatchNorm2d(512, eps=1e-05, momentum=0.1, affine=True, track_running_stats=True)\n",
       "      (downsample): Sequential(\n",
       "        (0): Conv2d(256, 512, kernel_size=(1, 1), stride=(2, 2), bias=False)\n",
       "        (1): BatchNorm2d(512, eps=1e-05, momentum=0.1, affine=True, track_running_stats=True)\n",
       "      )\n",
       "    )\n",
       "    (1): BasicBlock(\n",
       "      (conv1): Conv2d(512, 512, kernel_size=(3, 3), stride=(1, 1), padding=(1, 1), bias=False)\n",
       "      (bn1): BatchNorm2d(512, eps=1e-05, momentum=0.1, affine=True, track_running_stats=True)\n",
       "      (relu): ReLU(inplace=True)\n",
       "      (conv2): Conv2d(512, 512, kernel_size=(3, 3), stride=(1, 1), padding=(1, 1), bias=False)\n",
       "      (bn2): BatchNorm2d(512, eps=1e-05, momentum=0.1, affine=True, track_running_stats=True)\n",
       "    )\n",
       "  )\n",
       "  (avgpool): AdaptiveAvgPool2d(output_size=(1, 1))\n",
       "  (fc): Linear(in_features=512, out_features=1000, bias=True)\n",
       ")"
      ]
     },
     "execution_count": 41,
     "metadata": {},
     "output_type": "execute_result"
    }
   ],
   "source": [
    "import torch\n",
    "data_path = \"../data/\"\n",
    "poster_data_path = data_path + \"movie-genre-from-its-poster/MovieGenre.csv\"\n",
    "new_poster_data_file = \"New_poster_data.csv\"\n",
    "base_images_path = \"../data/images/100/\"\n",
    "\n",
    "model = torch.hub.load('pytorch/vision:v0.4.2', 'resnet18', pretrained=True)\n",
    "# or any of these variants\n",
    "# model = torch.hub.load('pytorch/vision:v0.4.2', 'resnet34', pretrained=True)\n",
    "# model = torch.hub.load('pytorch/vision:v0.4.2', 'resnet50', pretrained=True)\n",
    "# model = torch.hub.load('pytorch/vision:v0.4.2', 'resnet101', pretrained=True)\n",
    "# model = torch.hub.load('pytorch/vision:v0.4.2', 'resnet152', pretrained=True)\n",
    "layer = model._modules.get('avgpool')\n",
    "model.eval()"
   ]
  },
  {
   "cell_type": "code",
   "execution_count": 42,
   "metadata": {},
   "outputs": [],
   "source": [
    "import torch\n",
    "import torch.nn as nn\n",
    "import torchvision.models as models\n",
    "import torchvision.transforms as transforms\n",
    "from torch.autograd import Variable\n",
    "from PIL import Image\n",
    "device = torch.device('cuda:0' if torch.cuda.is_available() else 'cpu')\n",
    "#scaler = transforms.Scale((224, 224))\n",
    "scaler = transforms.Resize((224, 224))\n",
    "normalize = transforms.Normalize(mean=[0.485, 0.456, 0.406],\n",
    "                                 std=[0.229, 0.224, 0.225])\n",
    "\n",
    "to_tensor = transforms.ToTensor()\n",
    "\n",
    "def get_img_vector(image_name):\n",
    "    # Load the image with Pillow library\n",
    "    img = Image.open(image_name)    \n",
    "    # Check if the imge is in colour\n",
    "    img_bands = img.getbands()    \n",
    "    \n",
    "    if len(img_bands) < 3:     \n",
    "        img = Image.new(\"RGB\", img.size)\n",
    "    # Create a PyTorch Variable with the transformed image\n",
    "    t_img = Variable(normalize(to_tensor(scaler(img))).unsqueeze(0))  \n",
    "        \n",
    "    #  Create a vector of zeros that will hold the feature vector\n",
    "    #  The 'avgpool' layer has an output size of 512\n",
    "    my_embedding = torch.zeros(512)    \n",
    "    # 4. Define a function that will copy the output of a layer\n",
    "    def copy_data(m, i, o):\n",
    "        #my_embedding.copy_(o.data) # original code not working\n",
    "        my_embedding.copy_(o.data.squeeze())        \n",
    "    # move the input and model to GPU for speed if available\n",
    "    if torch.cuda.is_available():\n",
    "        t_img = t_img.to(device)\n",
    "        model.to(device)\n",
    "    #  Attach that function to our selected layer   \n",
    "    h = layer.register_forward_hook(copy_data)    \n",
    "    #  Run the model on our transformed image\n",
    "    model(t_img)    \n",
    "    #  Detach our copy function from the layer\n",
    "    h.remove()    \n",
    "    #  Return the feature vector\n",
    "    return my_embedding\n"
   ]
  },
  {
   "cell_type": "code",
   "execution_count": 22,
   "metadata": {},
   "outputs": [],
   "source": [
    "# create a vocab\n",
    "def get_vocab(new_poster_data):\n",
    "    all_titles=[]\n",
    "    for _,row in new_poster_data.iterrows():\n",
    "        title = str(row['title'])\n",
    "        encoded = bpemb_en.encode(title)\n",
    "        [all_titles.append(token) for token in encoded]\n",
    "    # create a vocabulary\n",
    "    vocab = {f:i+4 for i,f in enumerate((set(all_titles)))}    \n",
    "    # reserved tokens    \n",
    "    vocab[\"<unk>\"] = 0  # unknown words (this was already defined in the model)\n",
    "    vocab[\"<pad>\"] = 1 # padding\n",
    "    vocab[\"<s>\"] = 2  # title starting tag\n",
    "    vocab[\"<e>\"] = 3  # title ending tag\n",
    "        \n",
    "    return vocab\n",
    "\n",
    "# mapping tokens to integers\n",
    "token_to_int = get_vocab(new_poster_data)  \n",
    "# reverse mapping\n",
    "int_to_str = {v: k for k, v in token_to_int.items()}"
   ]
  },
  {
   "cell_type": "code",
   "execution_count": 23,
   "metadata": {},
   "outputs": [],
   "source": [
    "# add the start and end tokens somewhere here"
   ]
  },
  {
   "cell_type": "code",
   "execution_count": 55,
   "metadata": {
    "scrolled": true
   },
   "outputs": [],
   "source": [
    "base_images_path = \"../data/images/100/\"\n",
    "import numpy as np\n",
    "\n",
    "# create a list of embeddings for each title, \n",
    "# each of size [512]+[100]\n",
    "def get_both_vectors(row):    \n",
    "    vectors = [] \n",
    "\n",
    "    img = str(row['imgid'])\n",
    "    path = base_images_path + img +\".jpg\"      \n",
    "    img_vector = get_img_vector(path)\n",
    "\n",
    "    title = str(row['title'])\n",
    "    # tokenize title\n",
    "    token_ids = bpemb_en.encode_ids(title)\n",
    "    for t in token_ids:            \n",
    "        token_vec = bpemb_en.vectors[t]       \n",
    "        token_tensor = torch.from_numpy(token_vec)\n",
    "        concat_vec = torch.cat((token_tensor, img_vector),0) # cat 0 or 1?\n",
    "        vectors.append(concat_vec)\n",
    "        \n",
    "    return vectors"
   ]
  },
  {
   "cell_type": "code",
   "execution_count": 56,
   "metadata": {},
   "outputs": [],
   "source": [
    "from torch.utils.data import Dataset\n",
    "from torch.utils import data\n",
    "\n",
    "class MoviePosterDataset(Dataset):\n",
    "    def __init__(self, title, vectors,):\n",
    "        self.title = title\n",
    "        self.vectors = vectors\n",
    "\n",
    "    def __len__(self):\n",
    "        return len(self.title)\n",
    "    \n",
    "    def __getitem__(self, idx):            \n",
    "        title = self.title[idx]\n",
    "        vectors = self.vectors[idx]\n",
    "                \n",
    "        return title, vectors"
   ]
  },
  {
   "cell_type": "code",
   "execution_count": 57,
   "metadata": {},
   "outputs": [],
   "source": [
    "titles=[]\n",
    "vectors = [] # the concatenated vectors\n",
    "\n",
    "for _,row in new_poster_data.iterrows():  \n",
    "    t = str(row['title'])    \n",
    "    vec = get_both_vectors(row)\n",
    "    titles.append(t)\n",
    "    vectors.append(vec)\n",
    "    \n",
    "movies_dataset = MoviePosterDataset(titles, vectors)"
   ]
  },
  {
   "cell_type": "code",
   "execution_count": 60,
   "metadata": {},
   "outputs": [],
   "source": [
    "import random\n",
    "import math\n",
    "\n",
    "totalindices = list(range(len(titles)))\n",
    "random.shuffle(totalindices)\n",
    "splitindex = math.floor(len(titles)*0.6)\n",
    "trainindices = totalindices[:splitindex]\n",
    "testindices_ = totalindices[splitindex:]\n",
    "splitindex2 = math.floor(len(testindices_)*0.5)\n",
    "testindices = testindices_[:splitindex2]\n",
    "valindices = testindices_[splitindex2:]"
   ]
  },
  {
   "cell_type": "code",
   "execution_count": 61,
   "metadata": {},
   "outputs": [],
   "source": [
    "trainingsampler = torch.utils.data.SubsetRandomSampler(trainindices)\n",
    "testingsampler = torch.utils.data.SubsetRandomSampler(testindices)\n",
    "validationsampler = torch.utils.data.SubsetRandomSampler(valindices)"
   ]
  },
  {
   "cell_type": "code",
   "execution_count": 62,
   "metadata": {},
   "outputs": [
    {
     "name": "stdout",
     "output_type": "stream",
     "text": [
      "Number of training examples: 22645\n",
      "Number of validation examples: 7549\n",
      "Number of testing examples: 7548\n"
     ]
    }
   ],
   "source": [
    "print(f'Number of training examples: {len(trainingsampler)}')\n",
    "print(f'Number of validation examples: {len(validationsampler)}')\n",
    "print(f'Number of testing examples: {len(testingsampler)}')"
   ]
  },
  {
   "cell_type": "code",
   "execution_count": 63,
   "metadata": {},
   "outputs": [],
   "source": [
    "batches = 1"
   ]
  },
  {
   "cell_type": "code",
   "execution_count": 64,
   "metadata": {},
   "outputs": [],
   "source": [
    "traindl = torch.utils.data.DataLoader(movies_dataset, batch_size=batches, \n",
    "                                      sampler=trainingsampler, pin_memory=False)\n",
    "valdl = torch.utils.data.DataLoader(movies_dataset, batch_size=batches, sampler=validationsampler, pin_memory=False)\n",
    "testdl = torch.utils.data.DataLoader(movies_dataset, sampler=testingsampler)"
   ]
  },
  {
   "cell_type": "code",
   "execution_count": null,
   "metadata": {},
   "outputs": [],
   "source": []
  },
  {
   "cell_type": "code",
   "execution_count": null,
   "metadata": {},
   "outputs": [],
   "source": []
  }
 ],
 "metadata": {
  "kernelspec": {
   "display_name": "Python 3",
   "language": "python",
   "name": "python3"
  },
  "language_info": {
   "codemirror_mode": {
    "name": "ipython",
    "version": 3
   },
   "file_extension": ".py",
   "mimetype": "text/x-python",
   "name": "python",
   "nbconvert_exporter": "python",
   "pygments_lexer": "ipython3",
   "version": "3.7.4"
  }
 },
 "nbformat": 4,
 "nbformat_minor": 2
}
